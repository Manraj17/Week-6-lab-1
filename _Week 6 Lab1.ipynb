{
 "cells": [
  {
   "cell_type": "code",
   "execution_count": 2,
   "id": "1b7d5251-2388-432c-856b-56247ca1f1c7",
   "metadata": {},
   "outputs": [
    {
     "name": "stdout",
     "output_type": "stream",
     "text": [
      "Rex says Woof!\n",
      "Whiskers says Meow!\n",
      "Leo says Roar!\n",
      "Slither says Hiss!\n"
     ]
    }
   ],
   "source": [
    "class Animal:\n",
    "    def __init__(self, name):\n",
    "        self.name = name\n",
    "\n",
    "    def speak(self):\n",
    "        raise NotImplementedError(\"Subclass must implement abstract method\")\n",
    "\n",
    "class Dog(Animal):\n",
    "    def speak(self):\n",
    "        return f\"{self.name} says Woof!\"\n",
    "        \n",
    "class Cat(Animal):\n",
    "    def speak(self):\n",
    "        return f\"{self.name} says Meow!\"\n",
    "        \n",
    "class Lion(Animal):\n",
    "    def speak(self):\n",
    "        return f\"{self.name} says Roar!\"\n",
    "\n",
    "class Snake(Animal):\n",
    "    def speak(self):\n",
    "        return f\"{self.name} says Hiss!\"\n",
    "\n",
    "# Create instances of each animal\n",
    "dog = Dog(\"Rex\")\n",
    "cat = Cat(\"Whiskers\")\n",
    "lion = Lion(\"Leo\")\n",
    "snake = Snake(\"Slither\")\n",
    "\n",
    "# Print their sounds\n",
    "print(dog.speak())  # Output: Rex says Woof!\n",
    "print(cat.speak())  # Output: Whiskers says Meow!\n",
    "print(lion.speak())  # Output: Leo says Roar!\n",
    "print(snake.speak())  # Output: Slither says Hiss!\n"
   ]
  },
  {
   "cell_type": "code",
   "execution_count": 3,
   "id": "2b23bb51-a02a-4860-ad3a-a5e71b1b5ec5",
   "metadata": {},
   "outputs": [
    {
     "name": "stdout",
     "output_type": "stream",
     "text": [
      "The Ford Mustang with a V8 engine is starting.\n"
     ]
    }
   ],
   "source": [
    "class Engine:\n",
    "    def __init__(self, type, horsepower):\n",
    "        self.type = type\n",
    "        self.horsepower = horsepower\n",
    "class Car:\n",
    "    def __init__(self, make, model, engine):\n",
    "        self.make = make\n",
    "        self.model = model\n",
    "        self.engine = engine\n",
    "    \n",
    "    def start(self):\n",
    "        return f\"The {self.make} {self.model} with a {self.engine.type} engine is starting.\"\n",
    "engine = Engine(\"V8\", 450)\n",
    "car = Car(\"Ford\", \"Mustang\", engine)\n",
    "print(car.start())  # Output: The Ford Mustang with a V8 engine is starting.\n"
   ]
  },
  {
   "cell_type": "code",
   "execution_count": 9,
   "id": "fb16e122-2275-429a-a585-9c593a9ab640",
   "metadata": {},
   "outputs": [
    {
     "name": "stdout",
     "output_type": "stream",
     "text": [
      "The Ford Mustang with a V8 engine and manual transmission is starting.\n",
      "The car is now going 80 mph.\n",
      "The car is now going 130 mph.\n",
      "The car is now going 100 mph.\n",
      "The car has driven 100 miles. Remaining fuel: 2.0 gallons.\n",
      "Car is in good condition.\n"
     ]
    }
   ],
   "source": [
    "class Engine:\n",
    "    def __init__(self, type, horsepower):\n",
    "        self.type = type\n",
    "        self.horsepower = horsepower\n",
    "\n",
    "class Car:\n",
    "    def __init__(self, make, model, engine, fuel_efficiency, fuel_level, transmission_type=\"automatic\"):\n",
    "        self.make = make\n",
    "        self.model = model\n",
    "        self.engine = engine\n",
    "        self.fuel_efficiency = fuel_efficiency  # in miles per gallon\n",
    "        self.fuel_level = fuel_level  # in gallons\n",
    "        self.transmission_type = transmission_type\n",
    "        self.speed = 0  # Initial speed is 0\n",
    "\n",
    "    def start(self):\n",
    "        return f\"The {self.make} {self.model} with a {self.engine.type} engine and {self.transmission_type} transmission is starting.\"\n",
    "\n",
    "    def accelerate(self, increment):\n",
    "        self.speed += increment\n",
    "        return f\"The car is now going {self.speed} mph.\"\n",
    "\n",
    "    def decelerate(self, decrement):\n",
    "        if self.speed - decrement >= 0:\n",
    "            self.speed -= decrement\n",
    "            return f\"The car is now going {self.speed} mph.\"\n",
    "        else:\n",
    "            self.speed = 0\n",
    "            return \"The car has stopped.\"\n",
    "\n",
    "    def drive(self, miles):\n",
    "        fuel_needed = miles / self.fuel_efficiency\n",
    "        if fuel_needed <= self.fuel_level:\n",
    "            self.fuel_level -= fuel_needed\n",
    "            return f\"The car has driven {miles} miles. Remaining fuel: {self.fuel_level} gallons.\"\n",
    "        else:\n",
    "            return \"Not enough fuel to drive that distance.\"\n",
    "\n",
    "    def check_maintenance(self):\n",
    "        if self.fuel_level < 1:\n",
    "            return \"Warning: Low fuel level!\"\n",
    "        elif self.speed > 100:\n",
    "            return \"Warning: You are driving too fast!\"\n",
    "        else:\n",
    "            return \"Car is in good condition.\"\n",
    "\n",
    "print(car.start())\n",
    "print(car.accelerate(30))\n",
    "print(car.accelerate(50))\n",
    "print(car.decelerate(30))\n",
    "print(car.drive(100))\n",
    "print(car.check_maintenance())"
   ]
  },
  {
   "cell_type": "code",
   "execution_count": 12,
   "id": "12ec2dbf-4089-4a3c-a2f2-27d8006a2b49",
   "metadata": {},
   "outputs": [
    {
     "name": "stdout",
     "output_type": "stream",
     "text": [
      "Rex says Woof!\n",
      "Whiskers says Meow!\n",
      "Tweety says Chirp!\n",
      "Bessie says Moo!\n",
      "Donald says Quack!\n",
      "Simba says Roar!\n"
     ]
    }
   ],
   "source": [
    "# Base class for Animal\n",
    "class Animal:\n",
    "    def __init__(self, name):\n",
    "        self.name = name\n",
    "    \n",
    "    def speak(self):\n",
    "        raise NotImplementedError(\"Subclass must implement abstract method\")\n",
    "\n",
    "# Dog class\n",
    "class Dog(Animal):\n",
    "    def speak(self):\n",
    "        return f\"{self.name} says Woof!\"\n",
    "\n",
    "# Cat class\n",
    "class Cat(Animal):\n",
    "    def speak(self):\n",
    "        return f\"{self.name} says Meow!\"\n",
    "\n",
    "# Bird class\n",
    "class Bird(Animal):\n",
    "    def speak(self):\n",
    "        return f\"{self.name} says Chirp!\"\n",
    "\n",
    "# Cow class\n",
    "class Cow(Animal):\n",
    "    def speak(self):\n",
    "        return f\"{self.name} says Moo!\"\n",
    "\n",
    "# Duck class\n",
    "class Duck(Animal):\n",
    "    def speak(self):\n",
    "        return f\"{self.name} says Quack!\"\n",
    "\n",
    "# Lion class\n",
    "class Lion(Animal):\n",
    "    def speak(self):\n",
    "        return f\"{self.name} says Roar!\"\n",
    "\n",
    "# Function to print the sound of any animal\n",
    "def animal_sound(animal):\n",
    "    print(animal.speak())\n",
    "\n",
    "# Creating instances of each animal\n",
    "dog = Dog(\"Rex\")\n",
    "cat = Cat(\"Whiskers\")\n",
    "bird = Bird(\"Tweety\")\n",
    "cow = Cow(\"Bessie\")\n",
    "duck = Duck(\"Donald\")\n",
    "lion = Lion(\"Simba\")\n",
    "\n",
    "# Calling animal_sound to print sounds for each animal\n",
    "animal_sound(dog)   # Output: Rex says Woof!\n",
    "animal_sound(cat)   \n",
    "animal_sound(bird)  \n",
    "animal_sound(cow)   \n",
    "animal_sound(duck)  \n",
    "animal_sound(lion)  \n"
   ]
  },
  {
   "cell_type": "code",
   "execution_count": null,
   "id": "3051653e-be66-48d7-8b28-a43574ea5582",
   "metadata": {},
   "outputs": [],
   "source": []
  }
 ],
 "metadata": {
  "kernelspec": {
   "display_name": "Python 3 (ipykernel)",
   "language": "python",
   "name": "python3"
  },
  "language_info": {
   "codemirror_mode": {
    "name": "ipython",
    "version": 3
   },
   "file_extension": ".py",
   "mimetype": "text/x-python",
   "name": "python",
   "nbconvert_exporter": "python",
   "pygments_lexer": "ipython3",
   "version": "3.12.7"
  }
 },
 "nbformat": 4,
 "nbformat_minor": 5
}
